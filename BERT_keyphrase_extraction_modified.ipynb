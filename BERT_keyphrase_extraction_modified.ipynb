{
  "nbformat": 4,
  "nbformat_minor": 0,
  "metadata": {
    "colab": {
      "name": "BERT-keyphrase-extraction_modified.ipynb",
      "provenance": [],
      "collapsed_sections": []
    },
    "kernelspec": {
      "name": "python3",
      "display_name": "Python 3"
    },
    "accelerator": "GPU"
  },
  "cells": [
    {
      "cell_type": "markdown",
      "metadata": {
        "id": "5CIbnpKPEo80"
      },
      "source": [
        "[![Open In Colab](https://colab.research.google.com/assets/colab-badge.svg)](https://colab.research.google.com/drive/1WKBGbXA6wWXQuNmfWG1r5N7WyiQQ2k7Z?usp=sharing)\r\n",
        "\r\n",
        "[![Open In Drive](https://img.shields.io/badge/googledrive-Open%20in%20Drive-yellowgreen)](https://drive.google.com/drive/folders/1SfK8YJ1mPyBt0Hz61vOqzMnAmvdnheg-?usp=sharing)\r\n",
        "\r\n",
        "[![Open In Github](https://img.shields.io/badge/github-Open%20in%20Github-orange)](https://github.com/prabormukherjee/BERT-keyphrase-extraction)"
      ]
    },
    {
      "cell_type": "code",
      "metadata": {
        "id": "zD8ksgJSvT56"
      },
      "source": [
        "# !rm -rf ./BERT-keyphrase-extraction"
      ],
      "execution_count": 1,
      "outputs": []
    },
    {
      "cell_type": "code",
      "metadata": {
        "colab": {
          "base_uri": "https://localhost:8080/"
        },
        "id": "4RNhyHoCfvFz",
        "outputId": "7e8d01c3-ba04-4b29-f029-fcb197e94e21"
      },
      "source": [
        "!git clone https://github.com/prabormukherjee/BERT-keyphrase-extraction.git"
      ],
      "execution_count": 2,
      "outputs": [
        {
          "output_type": "stream",
          "text": [
            "Cloning into 'BERT-keyphrase-extraction'...\n",
            "remote: Enumerating objects: 49, done.\u001b[K\n",
            "remote: Counting objects: 100% (49/49), done.\u001b[K\n",
            "remote: Compressing objects: 100% (43/43), done.\u001b[K\n",
            "remote: Total 126 (delta 15), reused 14 (delta 4), pack-reused 77\u001b[K\n",
            "Receiving objects: 100% (126/126), 7.55 MiB | 11.92 MiB/s, done.\n",
            "Resolving deltas: 100% (34/34), done.\n"
          ],
          "name": "stdout"
        }
      ]
    },
    {
      "cell_type": "code",
      "metadata": {
        "id": "sR4ScZUXgFlm"
      },
      "source": [
        "!pip3 install transformers"
      ],
      "execution_count": null,
      "outputs": []
    },
    {
      "cell_type": "code",
      "metadata": {
        "colab": {
          "base_uri": "https://localhost:8080/"
        },
        "id": "0vasVxtLEgoC",
        "outputId": "a25a8aec-c797-4224-d63b-bf7e0c121b85"
      },
      "source": [
        "!python3 \"./BERT-keyphrase-extraction/modified_train.py\""
      ],
      "execution_count": 5,
      "outputs": [
        {
          "output_type": "stream",
          "text": [
            "2020-12-13 12:50:55.176515: I tensorflow/stream_executor/platform/default/dso_loader.cc:48] Successfully opened dynamic library libcudart.so.10.1\n",
            "Loading started train\n",
            "Loading started val\n",
            "Loading started test\n",
            "Epoch:  0\n",
            "Val acc. 77.77777777777779\n",
            "Test acc. 77.77777777777779\n",
            "output flused to disk\n",
            "Done\n"
          ],
          "name": "stdout"
        }
      ]
    },
    {
      "cell_type": "code",
      "metadata": {
        "id": "nYpKJGnWJ1_z"
      },
      "source": [
        ""
      ],
      "execution_count": null,
      "outputs": []
    }
  ]
}