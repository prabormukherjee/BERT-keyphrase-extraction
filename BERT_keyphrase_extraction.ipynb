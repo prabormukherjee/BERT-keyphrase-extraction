{
  "nbformat": 4,
  "nbformat_minor": 0,
  "metadata": {
    "colab": {
      "name": "BERT-keyphrase-extraction.ipynb",
      "provenance": [],
      "collapsed_sections": []
    },
    "kernelspec": {
      "name": "python3",
      "display_name": "Python 3"
    },
    "accelerator": "GPU"
  },
  "cells": [
    {
      "cell_type": "markdown",
      "metadata": {
        "id": "BLSlg-IDgXTo"
      },
      "source": [
        "[![Open In Colab](https://colab.research.google.com/assets/colab-badge.svg)](https://colab.research.google.com/drive/1lMAZXUi3IzrFcG5f-HZCu0AACWVXGC0A?usp=sharing)\n",
        "\n",
        "[![Open In Drive](https://img.shields.io/badge/googledrive-Open%20in%20Drive-yellowgreen)](https://drive.google.com/drive/folders/1SfK8YJ1mPyBt0Hz61vOqzMnAmvdnheg-?usp=sharing)\n",
        "\n",
        "[![Open In Github](https://img.shields.io/badge/github-Open%20in%20Github-orange)](https://github.com/prabormukherjee/BERT-keyphrase-extraction)"
      ]
    },
    {
      "cell_type": "code",
      "metadata": {
        "id": "K2n3SblOvZ5K"
      },
      "source": [
        "# !git clone https://github.com/prabormukherjee/BERT-keyphrase-extraction.git"
      ],
      "execution_count": null,
      "outputs": []
    },
    {
      "cell_type": "code",
      "metadata": {
        "colab": {
          "base_uri": "https://localhost:8080/"
        },
        "id": "bYu8tDrmzuLx",
        "outputId": "a865b232-3edb-4e9e-ee0d-f3c88e3828fa"
      },
      "source": [
        "!pip3 install transformers"
      ],
      "execution_count": null,
      "outputs": [
        {
          "output_type": "stream",
          "text": [
            "Requirement already satisfied: transformers in /usr/local/lib/python3.6/dist-packages (3.5.1)\n",
            "Requirement already satisfied: packaging in /usr/local/lib/python3.6/dist-packages (from transformers) (20.4)\n",
            "Requirement already satisfied: regex!=2019.12.17 in /usr/local/lib/python3.6/dist-packages (from transformers) (2019.12.20)\n",
            "Requirement already satisfied: numpy in /usr/local/lib/python3.6/dist-packages (from transformers) (1.18.5)\n",
            "Requirement already satisfied: tqdm>=4.27 in /usr/local/lib/python3.6/dist-packages (from transformers) (4.41.1)\n",
            "Requirement already satisfied: requests in /usr/local/lib/python3.6/dist-packages (from transformers) (2.23.0)\n",
            "Requirement already satisfied: sacremoses in /usr/local/lib/python3.6/dist-packages (from transformers) (0.0.43)\n",
            "Requirement already satisfied: protobuf in /usr/local/lib/python3.6/dist-packages (from transformers) (3.12.4)\n",
            "Requirement already satisfied: filelock in /usr/local/lib/python3.6/dist-packages (from transformers) (3.0.12)\n",
            "Requirement already satisfied: tokenizers==0.9.3 in /usr/local/lib/python3.6/dist-packages (from transformers) (0.9.3)\n",
            "Requirement already satisfied: sentencepiece==0.1.91 in /usr/local/lib/python3.6/dist-packages (from transformers) (0.1.91)\n",
            "Requirement already satisfied: dataclasses; python_version < \"3.7\" in /usr/local/lib/python3.6/dist-packages (from transformers) (0.8)\n",
            "Requirement already satisfied: pyparsing>=2.0.2 in /usr/local/lib/python3.6/dist-packages (from packaging->transformers) (2.4.7)\n",
            "Requirement already satisfied: six in /usr/local/lib/python3.6/dist-packages (from packaging->transformers) (1.15.0)\n",
            "Requirement already satisfied: chardet<4,>=3.0.2 in /usr/local/lib/python3.6/dist-packages (from requests->transformers) (3.0.4)\n",
            "Requirement already satisfied: urllib3!=1.25.0,!=1.25.1,<1.26,>=1.21.1 in /usr/local/lib/python3.6/dist-packages (from requests->transformers) (1.24.3)\n",
            "Requirement already satisfied: certifi>=2017.4.17 in /usr/local/lib/python3.6/dist-packages (from requests->transformers) (2020.11.8)\n",
            "Requirement already satisfied: idna<3,>=2.5 in /usr/local/lib/python3.6/dist-packages (from requests->transformers) (2.10)\n",
            "Requirement already satisfied: joblib in /usr/local/lib/python3.6/dist-packages (from sacremoses->transformers) (0.17.0)\n",
            "Requirement already satisfied: click in /usr/local/lib/python3.6/dist-packages (from sacremoses->transformers) (7.1.2)\n",
            "Requirement already satisfied: setuptools in /usr/local/lib/python3.6/dist-packages (from protobuf->transformers) (50.3.2)\n"
          ],
          "name": "stdout"
        }
      ]
    },
    {
      "cell_type": "code",
      "metadata": {
        "colab": {
          "base_uri": "https://localhost:8080/"
        },
        "id": "UyM0uKjwvdQM",
        "outputId": "164a47a3-58cd-49ec-a3dc-6bd24f168d43"
      },
      "source": [
        "!python3 \"./BERT-keyphrase-extraction/train.py\""
      ],
      "execution_count": null,
      "outputs": [
        {
          "output_type": "stream",
          "text": [
            "2020-11-27 10:02:06.571620: I tensorflow/stream_executor/platform/default/dso_loader.cc:48] Successfully opened dynamic library libcudart.so.10.1\n",
            "device: cuda, n_gpu: 1, 16-bits training: False\n",
            "Loading the datasets...\n",
            "Some weights of the model checkpoint at bert-base-uncased were not used when initializing BertForTokenClassification: ['cls.predictions.bias', 'cls.predictions.transform.dense.weight', 'cls.predictions.transform.dense.bias', 'cls.predictions.decoder.weight', 'cls.seq_relationship.weight', 'cls.seq_relationship.bias', 'cls.predictions.transform.LayerNorm.weight', 'cls.predictions.transform.LayerNorm.bias']\n",
            "- This IS expected if you are initializing BertForTokenClassification from the checkpoint of a model trained on another task or with another architecture (e.g. initializing a BertForSequenceClassification model from a BertForPreTraining model).\n",
            "- This IS NOT expected if you are initializing BertForTokenClassification from the checkpoint of a model that you expect to be exactly identical (initializing a BertForSequenceClassification model from a BertForSequenceClassification model).\n",
            "Some weights of BertForTokenClassification were not initialized from the model checkpoint at bert-base-uncased and are newly initialized: ['classifier.weight', 'classifier.bias']\n",
            "You should probably TRAIN this model on a down-stream task to be able to use it for predictions and inference.\n",
            "Starting training for 20 epoch(s)\n",
            "Epoch 1/20\n",
            "100% 99/99 [00:15<00:00,  6.39it/s, loss=0.403]\n",
            "- Train metrics: loss: 00.25; f1: 00.34\n",
            "- Val metrics: loss: 00.37; f1: 00.26\n",
            "- Found new best F1\n",
            "Epoch 2/20\n",
            "100% 99/99 [00:15<00:00,  6.23it/s, loss=0.249]\n",
            "- Train metrics: loss: 00.14; f1: 00.47\n",
            "- Val metrics: loss: 00.35; f1: 00.30\n",
            "- Found new best F1\n",
            "Epoch 3/20\n",
            "100% 99/99 [00:16<00:00,  6.10it/s, loss=0.175]\n",
            "- Train metrics: loss: 00.10; f1: 00.55\n",
            "- Val metrics: loss: 00.45; f1: 00.31\n",
            "- Found new best F1\n",
            "Epoch 4/20\n",
            "100% 99/99 [00:16<00:00,  5.96it/s, loss=0.122]\n",
            "- Train metrics: loss: 00.05; f1: 00.64\n",
            "- Val metrics: loss: 00.41; f1: 00.32\n",
            "- Found new best F1\n",
            "Epoch 5/20\n",
            "100% 99/99 [00:16<00:00,  5.86it/s, loss=0.081]\n",
            "- Train metrics: loss: 00.04; f1: 00.66\n",
            "- Val metrics: loss: 00.42; f1: 00.32\n",
            "- Found new best F1\n",
            "Epoch 6/20\n",
            "100% 99/99 [00:17<00:00,  5.75it/s, loss=0.059]\n",
            "- Train metrics: loss: 00.03; f1: 00.70\n",
            "- Val metrics: loss: 00.60; f1: 00.34\n",
            "- Found new best F1\n",
            "Best val f1: 00.34\n"
          ],
          "name": "stdout"
        }
      ]
    },
    {
      "cell_type": "code",
      "metadata": {
        "colab": {
          "base_uri": "https://localhost:8080/"
        },
        "id": "K8mXyoen79b_",
        "outputId": "46efbaeb-0d6d-49dd-f616-ed563d2c5c68"
      },
      "source": [
        "!python3 \"./BERT-keyphrase-extraction/evaluate.py\""
      ],
      "execution_count": null,
      "outputs": [
        {
          "output_type": "stream",
          "text": [
            "2020-11-27 10:08:56.373002: I tensorflow/stream_executor/platform/default/dso_loader.cc:48] Successfully opened dynamic library libcudart.so.10.1\n",
            "Loading the dataset...\n",
            "- done.\n",
            "Starting evaluation...\n",
            "- Test metrics: loss: 00.60; f1: 00.34\n",
            "             precision    recall  f1-score   support\n",
            "\n",
            "          I       0.27      0.45      0.34       921\n",
            "\n",
            "avg / total       0.27      0.45      0.34       921\n",
            "\n"
          ],
          "name": "stdout"
        }
      ]
    },
    {
      "cell_type": "code",
      "metadata": {
        "colab": {
          "base_uri": "https://localhost:8080/"
        },
        "id": "7EmMXrWj2O03",
        "outputId": "8eea97a0-56ca-41e1-d0f4-a7c39a2ea45c"
      },
      "source": [
        "!wget https://s3.amazonaws.com/models.huggingface.co/bert/bert-base-uncased-config.json"
      ],
      "execution_count": null,
      "outputs": [
        {
          "output_type": "stream",
          "text": [
            "--2020-11-27 10:09:11--  https://s3.amazonaws.com/models.huggingface.co/bert/bert-base-uncased-config.json\n",
            "Resolving s3.amazonaws.com (s3.amazonaws.com)... 52.216.152.142\n",
            "Connecting to s3.amazonaws.com (s3.amazonaws.com)|52.216.152.142|:443... connected.\n",
            "HTTP request sent, awaiting response... 200 OK\n",
            "Length: 433 [application/json]\n",
            "Saving to: ‘bert-base-uncased-config.json’\n",
            "\n",
            "bert-base-uncased-c 100%[===================>]     433  --.-KB/s    in 0s      \n",
            "\n",
            "2020-11-27 10:09:11 (11.4 MB/s) - ‘bert-base-uncased-config.json’ saved [433/433]\n",
            "\n"
          ],
          "name": "stdout"
        }
      ]
    },
    {
      "cell_type": "code",
      "metadata": {
        "colab": {
          "base_uri": "https://localhost:8080/"
        },
        "id": "oJC6Pu_OzkA5",
        "outputId": "afa1c9d6-05d6-49f7-d9e4-5a5c2daa173c"
      },
      "source": [
        "!python3 \"./BERT-keyphrase-extraction/generate.py\""
      ],
      "execution_count": null,
      "outputs": [
        {
          "output_type": "stream",
          "text": [
            "2020-11-27 10:09:12.981079: I tensorflow/stream_executor/platform/default/dso_loader.cc:48] Successfully opened dynamic library libcudart.so.10.1\n",
            "Starting Evaluation\n",
            "output flused to disk\n",
            "Done\n"
          ],
          "name": "stdout"
        }
      ]
    }
  ]
}