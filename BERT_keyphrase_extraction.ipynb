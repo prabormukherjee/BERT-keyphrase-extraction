{
  "nbformat": 4,
  "nbformat_minor": 0,
  "metadata": {
    "colab": {
      "name": "BERT-keyphrase-extraction.ipynb",
      "provenance": [],
      "collapsed_sections": []
    },
    "kernelspec": {
      "name": "python3",
      "display_name": "Python 3"
    },
    "accelerator": "GPU"
  },
  "cells": [
    {
      "cell_type": "markdown",
      "metadata": {
        "id": "BLSlg-IDgXTo"
      },
      "source": [
        "[![Open In Colab](https://colab.research.google.com/assets/colab-badge.svg)](https://colab.research.google.com/drive/1lMAZXUi3IzrFcG5f-HZCu0AACWVXGC0A?usp=sharing)\n",
        "\n",
        "[![Open In Drive](https://img.shields.io/badge/googledrive-Open%20in%20Drive-yellowgreen)](https://drive.google.com/drive/folders/1SfK8YJ1mPyBt0Hz61vOqzMnAmvdnheg-?usp=sharing)\n",
        "\n",
        "[![Open In Github](https://img.shields.io/badge/github-Open%20in%20Github-orange)](https://github.com/prabormukherjee/BERT-keyphrase-extraction)"
      ]
    },
    {
      "cell_type": "code",
      "metadata": {
        "colab": {
          "base_uri": "https://localhost:8080/"
        },
        "id": "SNjm4uY1WAC-",
        "outputId": "a16d99fb-df57-4d00-ff29-9523fc80d433"
      },
      "source": [
        "from google.colab import drive\n",
        "drive.mount('/content/drive')"
      ],
      "execution_count": null,
      "outputs": [
        {
          "output_type": "stream",
          "text": [
            "Mounted at /content/drive\n"
          ],
          "name": "stdout"
        }
      ]
    },
    {
      "cell_type": "code",
      "metadata": {
        "colab": {
          "base_uri": "https://localhost:8080/"
        },
        "id": "H8TfWSOWWNIu",
        "outputId": "41b66c33-e317-4254-9cbf-1ae84ed96f3d"
      },
      "source": [
        "!ls \"/content/drive/My Drive/Colab Notebooks\""
      ],
      "execution_count": null,
      "outputs": [
        {
          "output_type": "stream",
          "text": [
            "BERT-keyphrase-extraction\t Facial_Expression_Classification.ipynb\n",
            "BERT-keyphrase-extraction.ipynb\n"
          ],
          "name": "stdout"
        }
      ]
    },
    {
      "cell_type": "code",
      "metadata": {
        "id": "TfPtSxqHYjxn"
      },
      "source": [
        "# !pip install pytorch-pretrained-bert"
      ],
      "execution_count": null,
      "outputs": []
    },
    {
      "cell_type": "code",
      "metadata": {
        "id": "38BJyyOhY1sp"
      },
      "source": [
        "# !pip3 install transformers"
      ],
      "execution_count": null,
      "outputs": []
    },
    {
      "cell_type": "code",
      "metadata": {
        "id": "FVjN57m6KZF6"
      },
      "source": [
        "# !wget https://s3.amazonaws.com/models.huggingface.co/bert/bert-base-uncased-config.json"
      ],
      "execution_count": null,
      "outputs": []
    },
    {
      "cell_type": "code",
      "metadata": {
        "colab": {
          "base_uri": "https://localhost:8080/"
        },
        "id": "4MImEX0MWRdB",
        "outputId": "54f97e55-7c56-4687-9eb2-bbae25aa756e"
      },
      "source": [
        "!python3 \"/content/drive/My Drive/Colab Notebooks/BERT-keyphrase-extraction/train.py\""
      ],
      "execution_count": null,
      "outputs": [
        {
          "output_type": "stream",
          "text": [
            "2020-11-23 04:27:47.038868: I tensorflow/stream_executor/platform/default/dso_loader.cc:48] Successfully opened dynamic library libcudart.so.10.1\n",
            "device: cuda, n_gpu: 1, 16-bits training: False\n",
            "Loading the datasets...\n",
            "Lock 140318976711424 acquired on /root/.cache/torch/transformers/45c3f7a79a80e1cf0a489e5c62b43f173c15db47864303a55d623bb3c96f72a5.d789d64ebfe299b0e416afc4a169632f903f693095b4629a7ea271d5a0cf2c99.lock\n",
            "Downloading: 100% 232k/232k [00:00<00:00, 929kB/s]\n",
            "Lock 140318976711424 released on /root/.cache/torch/transformers/45c3f7a79a80e1cf0a489e5c62b43f173c15db47864303a55d623bb3c96f72a5.d789d64ebfe299b0e416afc4a169632f903f693095b4629a7ea271d5a0cf2c99.lock\n",
            "Lock 140318976710192 acquired on /root/.cache/torch/transformers/3c61d016573b14f7f008c02c4e51a366c67ab274726fe2910691e2a761acf43e.637c6035640bacb831febcc2b7f7bee0a96f9b30c2d7e9ef84082d9f252f3170.lock\n",
            "Downloading: 100% 433/433 [00:00<00:00, 469kB/s]\n",
            "Lock 140318976710192 released on /root/.cache/torch/transformers/3c61d016573b14f7f008c02c4e51a366c67ab274726fe2910691e2a761acf43e.637c6035640bacb831febcc2b7f7bee0a96f9b30c2d7e9ef84082d9f252f3170.lock\n",
            "Lock 140318976711032 acquired on /root/.cache/torch/transformers/a8041bf617d7f94ea26d15e218abd04afc2004805632abc0ed2066aa16d50d04.faf6ea826ae9c5867d12b22257f9877e6b8367890837bd60f7c54a29633f7f2f.lock\n",
            "Downloading: 100% 440M/440M [00:05<00:00, 85.5MB/s]\n",
            "Lock 140318976711032 released on /root/.cache/torch/transformers/a8041bf617d7f94ea26d15e218abd04afc2004805632abc0ed2066aa16d50d04.faf6ea826ae9c5867d12b22257f9877e6b8367890837bd60f7c54a29633f7f2f.lock\n",
            "Some weights of the model checkpoint at bert-base-uncased were not used when initializing BertForTokenClassification: ['cls.predictions.bias', 'cls.predictions.transform.dense.weight', 'cls.predictions.transform.dense.bias', 'cls.predictions.decoder.weight', 'cls.seq_relationship.weight', 'cls.seq_relationship.bias', 'cls.predictions.transform.LayerNorm.weight', 'cls.predictions.transform.LayerNorm.bias']\n",
            "- This IS expected if you are initializing BertForTokenClassification from the checkpoint of a model trained on another task or with another architecture (e.g. initializing a BertForSequenceClassification model from a BertForPreTraining model).\n",
            "- This IS NOT expected if you are initializing BertForTokenClassification from the checkpoint of a model that you expect to be exactly identical (initializing a BertForSequenceClassification model from a BertForSequenceClassification model).\n",
            "Some weights of BertForTokenClassification were not initialized from the model checkpoint at bert-base-uncased and are newly initialized: ['classifier.weight', 'classifier.bias']\n",
            "You should probably TRAIN this model on a down-stream task to be able to use it for predictions and inference.\n",
            "Starting training for 20 epoch(s)\n",
            "Epoch 1/20\n",
            "100% 99/99 [00:15<00:00,  6.30it/s, loss=0.403]\n",
            "- Train metrics: loss: 00.25; f1: 33.88\n",
            "- Val metrics: loss: 00.37; f1: 26.42\n",
            "- Found new best F1\n",
            "Epoch 2/20\n",
            "100% 99/99 [00:16<00:00,  6.07it/s, loss=0.249]\n",
            "- Train metrics: loss: 00.14; f1: 47.05\n",
            "- Val metrics: loss: 00.35; f1: 29.81\n",
            "- Found new best F1\n",
            "Epoch 3/20\n",
            "100% 99/99 [00:17<00:00,  5.78it/s, loss=0.175]\n",
            "- Train metrics: loss: 00.10; f1: 55.32\n",
            "- Val metrics: loss: 00.45; f1: 30.67\n",
            "- Found new best F1\n",
            "Epoch 4/20\n",
            "100% 99/99 [00:17<00:00,  5.62it/s, loss=0.122]\n",
            "- Train metrics: loss: 00.05; f1: 64.03\n",
            "- Val metrics: loss: 00.41; f1: 31.57\n",
            "- Found new best F1\n",
            "Epoch 5/20\n",
            "100% 99/99 [00:17<00:00,  5.73it/s, loss=0.081]\n",
            "- Train metrics: loss: 00.04; f1: 66.23\n",
            "- Val metrics: loss: 00.42; f1: 32.03\n",
            "- Found new best F1\n",
            "Epoch 6/20\n",
            "100% 99/99 [00:17<00:00,  5.71it/s, loss=0.059]\n",
            "- Train metrics: loss: 00.03; f1: 69.92\n",
            "- Val metrics: loss: 00.60; f1: 33.58\n",
            "- Found new best F1\n",
            "Epoch 7/20\n",
            "100% 99/99 [00:17<00:00,  5.72it/s, loss=0.048]\n",
            "- Train metrics: loss: 00.02; f1: 72.01\n",
            "- Val metrics: loss: 00.64; f1: 33.76\n",
            "- Found new best F1\n",
            "Epoch 8/20\n",
            "100% 99/99 [00:17<00:00,  5.69it/s, loss=0.027]\n",
            "- Train metrics: loss: 00.01; f1: 72.96\n",
            "- Val metrics: loss: 00.57; f1: 34.73\n",
            "- Found new best F1\n",
            "Epoch 9/20\n",
            "100% 99/99 [00:17<00:00,  5.80it/s, loss=0.018]\n",
            "- Train metrics: loss: 00.01; f1: 73.32\n",
            "- Val metrics: loss: 00.62; f1: 35.06\n",
            "- Found new best F1\n",
            "Epoch 10/20\n",
            "100% 99/99 [00:17<00:00,  5.73it/s, loss=0.014]\n",
            "- Train metrics: loss: 00.01; f1: 72.98\n",
            "- Val metrics: loss: 00.65; f1: 33.23\n",
            "Epoch 11/20\n",
            "100% 99/99 [00:17<00:00,  5.82it/s, loss=0.010]\n",
            "- Train metrics: loss: 00.00; f1: 74.01\n",
            "- Val metrics: loss: 00.71; f1: 35.04\n",
            "Epoch 12/20\n",
            "100% 99/99 [00:16<00:00,  5.84it/s, loss=0.010]\n",
            "- Train metrics: loss: 00.00; f1: 74.03\n",
            "- Val metrics: loss: 00.74; f1: 34.98\n",
            "Best val f1: 35.06\n"
          ],
          "name": "stdout"
        }
      ]
    },
    {
      "cell_type": "code",
      "metadata": {
        "colab": {
          "base_uri": "https://localhost:8080/"
        },
        "id": "PJtoJsmqyXDd",
        "outputId": "641e3460-c172-4a70-8bb8-779b9b96e97e"
      },
      "source": [
        "!python3 \"/content/drive/My Drive/Colab Notebooks/BERT-keyphrase-extraction/generate.py\""
      ],
      "execution_count": null,
      "outputs": [
        {
          "output_type": "stream",
          "text": [
            "2020-11-23 04:42:29.773066: I tensorflow/stream_executor/platform/default/dso_loader.cc:48] Successfully opened dynamic library libcudart.so.10.1\n",
            "Starting Evaluation\n",
            "output flused to disk\n",
            "Done\n"
          ],
          "name": "stdout"
        }
      ]
    }
  ]
}